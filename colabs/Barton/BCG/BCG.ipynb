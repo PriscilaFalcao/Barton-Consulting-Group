{
 "cells": [
  {
   "cell_type": "code",
   "execution_count": 38,
   "metadata": {},
   "outputs": [],
   "source": [
    "import pandas as pd\n",
    "import numpy as np\n",
    "#from pandas_profiling import ProfileReport"
   ]
  },
  {
   "cell_type": "code",
   "execution_count": 95,
   "metadata": {},
   "outputs": [],
   "source": [
    "municipios = pd.read_excel(\"Dados/Municipios/lista-1262municipios-semiarido-2017.xlsx\")\n",
    "municipios = municipios.rename(columns=municipios.iloc[1])\n",
    "municipios = municipios.drop([0, 1]).reset_index(drop=True)\n",
    "municipios = municipios.drop('#', axis=1).reset_index(drop=True)"
   ]
  },
  {
   "cell_type": "code",
   "execution_count": 96,
   "metadata": {},
   "outputs": [],
   "source": [
    "idh_tot = pd.read_csv(\"Dados/Registros_Administrativos/dados_registros_administrativos_total_2012_2027.csv\")\n",
    "#idh_tot = idh_tot[(idh_tot['IBGE7'].isin(municipios['Cod IBGE']))]\n",
    "idh_leg = pd.read_csv(\"Dados/Registros_Administrativos/dados_registros_administrativos_LEGENDA.csv\")"
   ]
  },
  {
   "cell_type": "code",
   "execution_count": 97,
   "metadata": {},
   "outputs": [],
   "source": [
    "censo = pd.read_csv(\"Dados/Censo/Censo_municipal_estadual_nacional-MUN91-00-10.csv\")\n",
    "censo = censo[(censo['Codmun7'].isin(municipios['Cod IBGE']))]\n",
    "#censo = censo.drop(censo[censo['IDHM'] > 0.4].index).reset_index(drop=True)\n",
    "censo_siglas = pd.read_csv(\"Dados/Censo/Censo_municipal_estadual_nacional-Siglas.csv\")"
   ]
  },
  {
   "cell_type": "code",
   "execution_count": 98,
   "metadata": {},
   "outputs": [],
   "source": [
    "alagoas = pd.read_csv(\"Dados/Dados IBGE/Alagoas.csv\")\n",
    "bahia = pd.read_csv(\"Dados/Dados IBGE/Bahia.csv\")\n",
    "ceara = pd.read_csv(\"Dados/Dados IBGE/Ceara.csv\")\n",
    "maranhao = pd.read_csv(\"Dados/Dados IBGE/Maranhao.csv\")\n",
    "minas_gerais = pd.read_csv(\"Dados/Dados IBGE/Minas Gerais.csv\")\n",
    "paraiba = pd.read_csv(\"Dados/Dados IBGE/Paraiba.csv\")\n",
    "pernambuco = pd.read_csv(\"Dados/Dados IBGE/Pernambuco.csv\")\n",
    "piaui = pd.read_csv(\"Dados/Dados IBGE/Piaui.csv\")\n",
    "rio_grande_do_norte = pd.read_csv(\"Dados/Dados IBGE/Rio Grande do Norte.csv\")\n",
    "sergipe = pd.read_csv(\"Dados/Dados IBGE/Sergipe.csv\")\n",
    "\n",
    "dados_ibge = pd.concat([alagoas, bahia, ceara, maranhao, minas_gerais, paraiba, pernambuco, piaui, rio_grande_do_norte, sergipe], ignore_index=True)"
   ]
  },
  {
   "cell_type": "code",
   "execution_count": 100,
   "metadata": {},
   "outputs": [],
   "source": [
    "censo_to_merge = censo.drop_duplicates(subset='Codmun7', keep='last')\n",
    "idh_tot_to_merge = idh_tot.drop_duplicates(subset='IBGE7', keep='last')\n",
    "censo_idh_merged = pd.merge(idh_tot_to_merge[['IBGE7', 'NOME', 'POP_TOT']], censo_to_merge[['Codmun7', 'IDHM']], left_on='IBGE7', right_on='Codmun7', how='inner')\n",
    "df = censo_idh_merged.drop('Codmun7', axis=1)\n",
    "df = df.sort_values(by='IBGE7')"
   ]
  },
  {
   "cell_type": "code",
   "execution_count": 101,
   "metadata": {},
   "outputs": [],
   "source": [
    "censo_sorted = censo.sort_values(by=['ANO', 'Codmun7'])\n",
    "censo_sorted['Crescimento_IDHM'] = censo_sorted.groupby('Codmun7')['IDHM'].pct_change()\n",
    "censo_sorted = censo_sorted.dropna().reset_index(drop=True)\n",
    "censo_sorted = censo_sorted.sort_values(by='Codmun7')\n",
    "df['Crescimento_IDHM'] = censo_sorted['CRESCIMENTO_IDHM']"
   ]
  },
  {
   "cell_type": "code",
   "execution_count": 104,
   "metadata": {},
   "outputs": [],
   "source": [
    "dados_ibge = dados_ibge.sort_values(by='Munic&iacute;pio [-]')\n",
    "df['AREA_KM²'] = dados_ibge['&Aacute;rea Territorial - km&sup2; [2022]']\n",
    "df['POP/KM²'] = df['POP_TOT']/df['Area (Km²)']\n",
    "df['bonk'] = dados_ibge['Densidade demogr&aacute;fica - hab/km&sup2; [2022]']"
   ]
  },
  {
   "cell_type": "code",
   "execution_count": 105,
   "metadata": {},
   "outputs": [
    {
     "data": {
      "text/html": [
       "<div>\n",
       "<style scoped>\n",
       "    .dataframe tbody tr th:only-of-type {\n",
       "        vertical-align: middle;\n",
       "    }\n",
       "\n",
       "    .dataframe tbody tr th {\n",
       "        vertical-align: top;\n",
       "    }\n",
       "\n",
       "    .dataframe thead th {\n",
       "        text-align: right;\n",
       "    }\n",
       "</style>\n",
       "<table border=\"1\" class=\"dataframe\">\n",
       "  <thead>\n",
       "    <tr style=\"text-align: right;\">\n",
       "      <th></th>\n",
       "      <th>IBGE7</th>\n",
       "      <th>NOME</th>\n",
       "      <th>POP_TOT</th>\n",
       "      <th>IDHM</th>\n",
       "      <th>Crescimento_IDHM</th>\n",
       "      <th>Area (Km²)</th>\n",
       "      <th>POP/KM²</th>\n",
       "      <th>bonk</th>\n",
       "    </tr>\n",
       "  </thead>\n",
       "  <tbody>\n",
       "    <tr>\n",
       "      <th>840</th>\n",
       "      <td>2703304</td>\n",
       "      <td>Inhapi</td>\n",
       "      <td>18652</td>\n",
       "      <td>0.484</td>\n",
       "      <td>0.722420</td>\n",
       "      <td>37050</td>\n",
       "      <td>0.503428</td>\n",
       "      <td>97.5</td>\n",
       "    </tr>\n",
       "    <tr>\n",
       "      <th>151</th>\n",
       "      <td>2209658</td>\n",
       "      <td>São Francisco de Assis do Piauí</td>\n",
       "      <td>5657</td>\n",
       "      <td>0.485</td>\n",
       "      <td>1.012448</td>\n",
       "      <td>13622</td>\n",
       "      <td>0.415284</td>\n",
       "      <td>96.3</td>\n",
       "    </tr>\n",
       "    <tr>\n",
       "      <th>1016</th>\n",
       "      <td>2916500</td>\n",
       "      <td>Itapicuru</td>\n",
       "      <td>36211</td>\n",
       "      <td>0.486</td>\n",
       "      <td>0.562701</td>\n",
       "      <td>38915</td>\n",
       "      <td>0.930515</td>\n",
       "      <td>98.4</td>\n",
       "    </tr>\n",
       "    <tr>\n",
       "      <th>769</th>\n",
       "      <td>2609154</td>\n",
       "      <td>Manari</td>\n",
       "      <td>21047</td>\n",
       "      <td>0.487</td>\n",
       "      <td>0.650847</td>\n",
       "      <td>10223</td>\n",
       "      <td>2.058789</td>\n",
       "      <td>95.8</td>\n",
       "    </tr>\n",
       "    <tr>\n",
       "      <th>49</th>\n",
       "      <td>2202653</td>\n",
       "      <td>Caxingó</td>\n",
       "      <td>5330</td>\n",
       "      <td>0.488</td>\n",
       "      <td>0.827715</td>\n",
       "      <td>9534</td>\n",
       "      <td>0.559052</td>\n",
       "      <td>97.4</td>\n",
       "    </tr>\n",
       "    <tr>\n",
       "      <th>...</th>\n",
       "      <td>...</td>\n",
       "      <td>...</td>\n",
       "      <td>...</td>\n",
       "      <td>...</td>\n",
       "      <td>...</td>\n",
       "      <td>...</td>\n",
       "      <td>...</td>\n",
       "      <td>...</td>\n",
       "    </tr>\n",
       "    <tr>\n",
       "      <th>438</th>\n",
       "      <td>2408003</td>\n",
       "      <td>Mossoró</td>\n",
       "      <td>295619</td>\n",
       "      <td>0.720</td>\n",
       "      <td>0.208054</td>\n",
       "      <td>20952</td>\n",
       "      <td>14.109345</td>\n",
       "      <td>99.0</td>\n",
       "    </tr>\n",
       "    <tr>\n",
       "      <th>555</th>\n",
       "      <td>2504009</td>\n",
       "      <td>Campina Grande</td>\n",
       "      <td>410332</td>\n",
       "      <td>0.720</td>\n",
       "      <td>0.198003</td>\n",
       "      <td>17632</td>\n",
       "      <td>23.272005</td>\n",
       "      <td>97.9</td>\n",
       "    </tr>\n",
       "    <tr>\n",
       "      <th>917</th>\n",
       "      <td>2903201</td>\n",
       "      <td>Barreiras</td>\n",
       "      <td>157638</td>\n",
       "      <td>0.721</td>\n",
       "      <td>0.260490</td>\n",
       "      <td>30805</td>\n",
       "      <td>5.117286</td>\n",
       "      <td>98.3</td>\n",
       "    </tr>\n",
       "    <tr>\n",
       "      <th>1237</th>\n",
       "      <td>3151206</td>\n",
       "      <td>Pirapora</td>\n",
       "      <td>56706</td>\n",
       "      <td>0.731</td>\n",
       "      <td>0.190554</td>\n",
       "      <td>32244</td>\n",
       "      <td>1.758653</td>\n",
       "      <td>98.5</td>\n",
       "    </tr>\n",
       "    <tr>\n",
       "      <th>180</th>\n",
       "      <td>2211001</td>\n",
       "      <td>Teresina</td>\n",
       "      <td>850198</td>\n",
       "      <td>0.751</td>\n",
       "      <td>0.211290</td>\n",
       "      <td>72382</td>\n",
       "      <td>11.745987</td>\n",
       "      <td>97.6</td>\n",
       "    </tr>\n",
       "  </tbody>\n",
       "</table>\n",
       "<p>1262 rows × 8 columns</p>\n",
       "</div>"
      ],
      "text/plain": [
       "        IBGE7                             NOME  POP_TOT   IDHM  \\\n",
       "840   2703304                           Inhapi    18652  0.484   \n",
       "151   2209658  São Francisco de Assis do Piauí     5657  0.485   \n",
       "1016  2916500                        Itapicuru    36211  0.486   \n",
       "769   2609154                           Manari    21047  0.487   \n",
       "49    2202653                          Caxingó     5330  0.488   \n",
       "...       ...                              ...      ...    ...   \n",
       "438   2408003                          Mossoró   295619  0.720   \n",
       "555   2504009                   Campina Grande   410332  0.720   \n",
       "917   2903201                        Barreiras   157638  0.721   \n",
       "1237  3151206                         Pirapora    56706  0.731   \n",
       "180   2211001                         Teresina   850198  0.751   \n",
       "\n",
       "      Crescimento_IDHM  Area (Km²)    POP/KM²  bonk  \n",
       "840           0.722420       37050   0.503428  97.5  \n",
       "151           1.012448       13622   0.415284  96.3  \n",
       "1016          0.562701       38915   0.930515  98.4  \n",
       "769           0.650847       10223   2.058789  95.8  \n",
       "49            0.827715        9534   0.559052  97.4  \n",
       "...                ...         ...        ...   ...  \n",
       "438           0.208054       20952  14.109345  99.0  \n",
       "555           0.198003       17632  23.272005  97.9  \n",
       "917           0.260490       30805   5.117286  98.3  \n",
       "1237          0.190554       32244   1.758653  98.5  \n",
       "180           0.211290       72382  11.745987  97.6  \n",
       "\n",
       "[1262 rows x 8 columns]"
      ]
     },
     "execution_count": 105,
     "metadata": {},
     "output_type": "execute_result"
    }
   ],
   "source": [
    "df[censo_idh_merged['POP_TOT'] >= 0].sort_values(by='IDHM')"
   ]
  },
  {
   "cell_type": "code",
   "execution_count": null,
   "metadata": {},
   "outputs": [],
   "source": [
    "cod_municipios = [260280, 260700, 230810, 270840]\n",
    "last_values = censo[~censo['Codmun6'].isin(cod_municipios)].sort_values(by='ANO').sort_values(by=['Município']).groupby('Codmun6').last().reset_index()\n",
    "first_values = censo[censo['Codmun6'].isin(cod_municipios)].sort_values(by='ANO').sort_values(by=['Município']).groupby('Codmun6').first().reset_index()\n",
    "\n",
    "new_censo = pd.concat([first_values, last_values])\n",
    "new_censo.reset_index(drop=True, inplace=True)"
   ]
  },
  {
   "cell_type": "code",
   "execution_count": null,
   "metadata": {},
   "outputs": [],
   "source": [
    "from sklearn.preprocessing import StandardScaler\n",
    "\n",
    "scaler = StandardScaler()\n",
    "\n",
    "X = new_censo.copy()\n",
    "X.drop(columns=['Município', 'UF', 'ANO', 'Codmun6', 'Codmun7'], inplace=True)\n",
    "X.fillna(0, inplace=True)\n",
    "X = scaler.fit_transform(X)"
   ]
  },
  {
   "cell_type": "code",
   "execution_count": null,
   "metadata": {},
   "outputs": [],
   "source": [
    "from sklearn.cluster import KMeans\n",
    "\n",
    "kmeans = KMeans(n_clusters=13)\n",
    "kmeans.fit(X)\n",
    "new_censo['Classe'] = kmeans.labels_"
   ]
  },
  {
   "cell_type": "code",
   "execution_count": null,
   "metadata": {},
   "outputs": [],
   "source": [
    "new_censo['Classe'].value_counts()"
   ]
  },
  {
   "cell_type": "code",
   "execution_count": null,
   "metadata": {},
   "outputs": [],
   "source": [
    "new_censo[(new_censo['Codmun6'].isin([260280, 260700, 230810, 270840]))].sort_values(by='ANO').sort_values(by=['Classe'])"
   ]
  },
  {
   "cell_type": "code",
   "execution_count": null,
   "metadata": {},
   "outputs": [],
   "source": [
    "new_censo[(new_censo['Classe'].isin([8]))].sort_values(by='ANO').sort_values(by=['IDHM'])"
   ]
  }
 ],
 "metadata": {
  "kernelspec": {
   "display_name": "Python 3",
   "language": "python",
   "name": "python3"
  },
  "language_info": {
   "codemirror_mode": {
    "name": "ipython",
    "version": 3
   },
   "file_extension": ".py",
   "mimetype": "text/x-python",
   "name": "python",
   "nbconvert_exporter": "python",
   "pygments_lexer": "ipython3",
   "version": "3.11.6"
  },
  "orig_nbformat": 4
 },
 "nbformat": 4,
 "nbformat_minor": 2
}
