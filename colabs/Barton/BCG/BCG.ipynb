{
 "cells": [
  {
   "cell_type": "code",
   "execution_count": 3,
   "metadata": {},
   "outputs": [
    {
     "name": "stderr",
     "output_type": "stream",
     "text": [
      "C:\\Users\\thoma\\AppData\\Local\\Temp\\ipykernel_15264\\2887495799.py:3: DeprecationWarning: `import pandas_profiling` is going to be deprecated by April 1st. Please use `import ydata_profiling` instead.\n",
      "  from pandas_profiling import ProfileReport\n"
     ]
    }
   ],
   "source": [
    "import pandas as pd\n",
    "import numpy as np\n",
    "from pandas_profiling import ProfileReport"
   ]
  },
  {
   "cell_type": "code",
   "execution_count": 37,
   "metadata": {},
   "outputs": [],
   "source": [
    "municipios = pd.read_excel(\"Dados/Municipios/lista-1262municipios-semiarido-2017.xlsx\")\n",
    "municipios = municipios.rename(columns=municipios.iloc[1])\n",
    "municipios = municipios.drop([0, 1]).reset_index(drop=True)\n",
    "municipios = municipios.drop('#', axis=1).reset_index(drop=True)\n",
    "municipios_profile = ProfileReport(municipios, title=\"municipios\")"
   ]
  },
  {
   "cell_type": "code",
   "execution_count": 11,
   "metadata": {},
   "outputs": [],
   "source": [
    "idh_tot = pd.read_excel(\"Dados/Registros Administrativos/dados_registros_administrativos_total_2012_2017.xlsx\")\n",
    "idh_tot_profile = ProfileReport(idh_tot, title=\"idh_tot\")"
   ]
  },
  {
   "cell_type": "code",
   "execution_count": 38,
   "metadata": {},
   "outputs": [
    {
     "data": {
      "text/html": [
       "<div>\n",
       "<style scoped>\n",
       "    .dataframe tbody tr th:only-of-type {\n",
       "        vertical-align: middle;\n",
       "    }\n",
       "\n",
       "    .dataframe tbody tr th {\n",
       "        vertical-align: top;\n",
       "    }\n",
       "\n",
       "    .dataframe thead th {\n",
       "        text-align: right;\n",
       "    }\n",
       "</style>\n",
       "<table border=\"1\" class=\"dataframe\">\n",
       "  <thead>\n",
       "    <tr style=\"text-align: right;\">\n",
       "      <th></th>\n",
       "      <th>Cod IBGE</th>\n",
       "      <th>UF</th>\n",
       "      <th>Município</th>\n",
       "      <th>População Estimada - 2017</th>\n",
       "    </tr>\n",
       "  </thead>\n",
       "  <tbody>\n",
       "    <tr>\n",
       "      <th>0</th>\n",
       "      <td>2700102</td>\n",
       "      <td>AL</td>\n",
       "      <td>ÁGUA BRANCA</td>\n",
       "      <td>20467</td>\n",
       "    </tr>\n",
       "    <tr>\n",
       "      <th>1</th>\n",
       "      <td>2700300</td>\n",
       "      <td>AL</td>\n",
       "      <td>ARAPIRACA</td>\n",
       "      <td>234185</td>\n",
       "    </tr>\n",
       "    <tr>\n",
       "      <th>2</th>\n",
       "      <td>2700706</td>\n",
       "      <td>AL</td>\n",
       "      <td>BATALHA</td>\n",
       "      <td>18757</td>\n",
       "    </tr>\n",
       "    <tr>\n",
       "      <th>3</th>\n",
       "      <td>2700904</td>\n",
       "      <td>AL</td>\n",
       "      <td>BELO MONTE</td>\n",
       "      <td>6797</td>\n",
       "    </tr>\n",
       "    <tr>\n",
       "      <th>4</th>\n",
       "      <td>2701209</td>\n",
       "      <td>AL</td>\n",
       "      <td>CACIMBINHAS</td>\n",
       "      <td>10897</td>\n",
       "    </tr>\n",
       "    <tr>\n",
       "      <th>...</th>\n",
       "      <td>...</td>\n",
       "      <td>...</td>\n",
       "      <td>...</td>\n",
       "      <td>...</td>\n",
       "    </tr>\n",
       "    <tr>\n",
       "      <th>1257</th>\n",
       "      <td>2806008</td>\n",
       "      <td>SE</td>\n",
       "      <td>RIBEIRÓPOLIS</td>\n",
       "      <td>18641</td>\n",
       "    </tr>\n",
       "    <tr>\n",
       "      <th>1258</th>\n",
       "      <td>2807006</td>\n",
       "      <td>SE</td>\n",
       "      <td>SÃO MIGUEL DO ALEIXO</td>\n",
       "      <td>3943</td>\n",
       "    </tr>\n",
       "    <tr>\n",
       "      <th>1259</th>\n",
       "      <td>2807105</td>\n",
       "      <td>SE</td>\n",
       "      <td>SIMÃO DIAS</td>\n",
       "      <td>40838</td>\n",
       "    </tr>\n",
       "    <tr>\n",
       "      <th>1260</th>\n",
       "      <td>2807303</td>\n",
       "      <td>SE</td>\n",
       "      <td>TELHA</td>\n",
       "      <td>3221</td>\n",
       "    </tr>\n",
       "    <tr>\n",
       "      <th>1261</th>\n",
       "      <td>2807402</td>\n",
       "      <td>SE</td>\n",
       "      <td>TOBIAS BARRETO</td>\n",
       "      <td>52156</td>\n",
       "    </tr>\n",
       "  </tbody>\n",
       "</table>\n",
       "<p>1262 rows × 4 columns</p>\n",
       "</div>"
      ],
      "text/plain": [
       "     Cod IBGE  UF             Município População Estimada - 2017\n",
       "0     2700102  AL           ÁGUA BRANCA                     20467\n",
       "1     2700300  AL             ARAPIRACA                    234185\n",
       "2     2700706  AL               BATALHA                     18757\n",
       "3     2700904  AL            BELO MONTE                      6797\n",
       "4     2701209  AL           CACIMBINHAS                     10897\n",
       "...       ...  ..                   ...                       ...\n",
       "1257  2806008  SE          RIBEIRÓPOLIS                     18641\n",
       "1258  2807006  SE  SÃO MIGUEL DO ALEIXO                      3943\n",
       "1259  2807105  SE            SIMÃO DIAS                     40838\n",
       "1260  2807303  SE                 TELHA                      3221\n",
       "1261  2807402  SE        TOBIAS BARRETO                     52156\n",
       "\n",
       "[1262 rows x 4 columns]"
      ]
     },
     "execution_count": 38,
     "metadata": {},
     "output_type": "execute_result"
    }
   ],
   "source": [
    "municipios"
   ]
  },
  {
   "cell_type": "code",
   "execution_count": null,
   "metadata": {},
   "outputs": [],
   "source": []
  }
 ],
 "metadata": {
  "kernelspec": {
   "display_name": "Python 3",
   "language": "python",
   "name": "python3"
  },
  "language_info": {
   "codemirror_mode": {
    "name": "ipython",
    "version": 3
   },
   "file_extension": ".py",
   "mimetype": "text/x-python",
   "name": "python",
   "nbconvert_exporter": "python",
   "pygments_lexer": "ipython3",
   "version": "3.10.7"
  },
  "orig_nbformat": 4
 },
 "nbformat": 4,
 "nbformat_minor": 2
}
